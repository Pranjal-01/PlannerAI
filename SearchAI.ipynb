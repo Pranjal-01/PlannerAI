{
 "cells": [
  {
   "cell_type": "code",
   "execution_count": 1,
   "metadata": {
    "execution": {
     "iopub.execute_input": "2024-12-09T22:18:04.102604Z",
     "iopub.status.busy": "2024-12-09T22:18:04.101763Z",
     "iopub.status.idle": "2024-12-09T22:19:09.300721Z",
     "shell.execute_reply": "2024-12-09T22:19:09.299529Z",
     "shell.execute_reply.started": "2024-12-09T22:18:04.102553Z"
    },
    "trusted": true
   },
   "outputs": [],
   "source": [
    "%%capture\n",
    "# installing dependencies\n",
    "%pip install -U bitsandbytes\n",
    "!pip install llama-index\n",
    "!pip install llama-index-llms-huggingface\n",
    "!pip install llama-index-embeddings-huggingface\n",
    "!pip install llama-index-embeddings-huggingface-api\n",
    "\n",
    "!pip install serpapi"
   ]
  },
  {
   "cell_type": "markdown",
   "metadata": {},
   "source": [
    "# Search API and Preposessing"
   ]
  },
  {
   "cell_type": "code",
   "execution_count": 2,
   "metadata": {
    "_cell_guid": "b1076dfc-b9ad-4769-8c92-a6c4dae69d19",
    "_uuid": "8f2839f25d086af736a60e9eeb907d3b93b6e0e5",
    "execution": {
     "iopub.execute_input": "2024-12-09T22:20:48.889916Z",
     "iopub.status.busy": "2024-12-09T22:20:48.889132Z",
     "iopub.status.idle": "2024-12-09T22:20:49.095651Z",
     "shell.execute_reply": "2024-12-09T22:20:49.094733Z",
     "shell.execute_reply.started": "2024-12-09T22:20:48.889861Z"
    },
    "trusted": true
   },
   "outputs": [],
   "source": [
    "from kaggle_secrets import UserSecretsClient\n",
    "user_secrets = UserSecretsClient()\n",
    "serp_api_key = user_secrets.get_secret(\"serp\")\n",
    "hf_token = user_secrets.get_secret(\"HUGGINGFACE_TOKEN\")"
   ]
  },
  {
   "cell_type": "code",
   "execution_count": 3,
   "metadata": {
    "execution": {
     "iopub.execute_input": "2024-12-09T22:20:49.221524Z",
     "iopub.status.busy": "2024-12-09T22:20:49.221195Z",
     "iopub.status.idle": "2024-12-09T22:20:49.287127Z",
     "shell.execute_reply": "2024-12-09T22:20:49.286470Z",
     "shell.execute_reply.started": "2024-12-09T22:20:49.221490Z"
    },
    "trusted": true
   },
   "outputs": [],
   "source": [
    "import serpapi"
   ]
  },
  {
   "cell_type": "code",
   "execution_count": 4,
   "metadata": {
    "execution": {
     "iopub.execute_input": "2024-12-09T22:20:49.774837Z",
     "iopub.status.busy": "2024-12-09T22:20:49.774524Z",
     "iopub.status.idle": "2024-12-09T22:20:49.779318Z",
     "shell.execute_reply": "2024-12-09T22:20:49.778409Z",
     "shell.execute_reply.started": "2024-12-09T22:20:49.774809Z"
    },
    "trusted": true
   },
   "outputs": [],
   "source": [
    "def search_response(query):\n",
    "    return serpapi.search(q=query, engine=\"google\", location=\"Austin, Texas\", hl=\"en\", gl=\"us\", api_key = serp_api_key)"
   ]
  },
  {
   "cell_type": "code",
   "execution_count": null,
   "metadata": {
    "execution": {
     "iopub.execute_input": "2024-12-09T23:57:48.153802Z",
     "iopub.status.busy": "2024-12-09T23:57:48.153433Z",
     "iopub.status.idle": "2024-12-09T23:57:48.161389Z",
     "shell.execute_reply": "2024-12-09T23:57:48.160526Z",
     "shell.execute_reply.started": "2024-12-09T23:57:48.153773Z"
    },
    "trusted": true
   },
   "outputs": [],
   "source": [
    "def extract_info(json_data):\n",
    "\n",
    "    results = []\n",
    "\n",
    "    # for \"knowledge_graph\" and extracting specified fields\n",
    "    if json_data.get(\"knowledge_graph\"):\n",
    "        results.append(\"Biography: \")\n",
    "        knowledge_graph = json_data[\"knowledge_graph\"]\n",
    "        fields_to_extract = [\n",
    "            \"title\", \"type\", \"description\", \"born\", \"children\",\n",
    "            \"net_worth\", \"spouse\", \"education\", \"nationality\", \"height\"\n",
    "        ]\n",
    "        for field in fields_to_extract:\n",
    "            if field in knowledge_graph:\n",
    "                results.append(f\"{field.capitalize()}: {knowledge_graph[field]}\")\n",
    "\n",
    "    # for \"answer_box\" and handling \"calculator_result\" or \"snippet\"\n",
    "    if json_data.get(\"answer_box\"):\n",
    "        answer_box = json_data[\"answer_box\"]\n",
    "        if answer_box.get(\"type\") == \"calculator_result\" and \"result\" in answer_box:\n",
    "            return f\"calculated value={answer_box['result']}\"\n",
    "        elif \"snippet\" in answer_box:\n",
    "            results.append(f'Answer to Query: {answer_box[\"snippet\"]}')  # No tag for answer_box snippet\n",
    "\n",
    "    # for \"related_questions\" and tagging \"question\" and \"snippet\"\n",
    "    if json_data.get(\"related_questions\"):\n",
    "        results.append(\"Related Questions: \")\n",
    "        for question in json_data[\"related_questions\"]:\n",
    "            if \"question\" in question:\n",
    "                results.append(f\"Question: {question['question']}\")\n",
    "            if \"snippet\" in question:\n",
    "                results.append(f\"Answer: {question['snippet']}\")\n",
    "\n",
    "    # for \"organic_results\" and getting \"snippet\"\n",
    "    if json_data.get(\"organic_results\"):\n",
    "        results.append(\"Additional Information: \")\n",
    "        for result in json_data[\"organic_results\"]:\n",
    "            if \"snippet\" in result:\n",
    "                snippet = result[\"snippet\"]\n",
    "                # Exclude incomplete sentences (those ending with \"...\")\n",
    "                if not snippet.endswith(\"...\"):\n",
    "                    results.append(snippet)\n",
    "\n",
    "    return results"
   ]
  },
  {
   "cell_type": "markdown",
   "metadata": {},
   "source": [
    "### Dealing with wordy mathematical expressions.\n",
    "\n",
    "#### Initially implemented this with llama3, but the google search API also provides a calculator function and its pretty robust, better performance then llama3 8b. Example given below."
   ]
  },
  {
   "cell_type": "code",
   "execution_count": 28,
   "metadata": {
    "execution": {
     "iopub.execute_input": "2024-12-09T21:56:47.300246Z",
     "iopub.status.busy": "2024-12-09T21:56:47.299519Z",
     "iopub.status.idle": "2024-12-09T21:56:48.626117Z",
     "shell.execute_reply": "2024-12-09T21:56:48.625285Z",
     "shell.execute_reply.started": "2024-12-09T21:56:47.300212Z"
    },
    "trusted": true
   },
   "outputs": [
    {
     "data": {
      "text/plain": [
       "'calculated value=156'"
      ]
     },
     "execution_count": 28,
     "metadata": {},
     "output_type": "execute_result"
    }
   ],
   "source": [
    "extract_info(search_response(\"5 to the power 2 multiplied by 6 plus 3 multiplied by 2\"))"
   ]
  },
  {
   "cell_type": "code",
   "execution_count": 29,
   "metadata": {
    "execution": {
     "iopub.execute_input": "2024-12-09T21:58:23.833999Z",
     "iopub.status.busy": "2024-12-09T21:58:23.833311Z",
     "iopub.status.idle": "2024-12-09T21:58:25.070349Z",
     "shell.execute_reply": "2024-12-09T21:58:25.069515Z",
     "shell.execute_reply.started": "2024-12-09T21:58:23.833965Z"
    },
    "trusted": true
   },
   "outputs": [
    {
     "data": {
      "text/plain": [
       "'calculated value=0.3141592653589793'"
      ]
     },
     "execution_count": 29,
     "metadata": {},
     "output_type": "execute_result"
    }
   ],
   "source": [
    "extract_info(search_response(\"divide pi by 4 plus 6\"))"
   ]
  },
  {
   "cell_type": "markdown",
   "metadata": {},
   "source": [
    "### Processing raw search data\n",
    "\n",
    "#### Filtered out the relavant components from the json response which were\n",
    "- The \"snippet\" in \"answer_box\" (given priority as it gives the most relavant answer to query)\n",
    "- The multiple \"question\" and \"snippet\" sections in \"related_questions\" (as it often gave new relavant info on the query)\n",
    "- The multiple \"snippet\" sections in \"organic_results\" (the descriptions of websites on the search page, often providing relavant info)\n",
    "\n",
    "#### This will be given to the LLM (LLaMA 3) so that it can provide a context-augmented response to the query."
   ]
  },
  {
   "cell_type": "code",
   "execution_count": 15,
   "metadata": {
    "execution": {
     "iopub.execute_input": "2024-12-09T22:14:30.115550Z",
     "iopub.status.busy": "2024-12-09T22:14:30.115157Z",
     "iopub.status.idle": "2024-12-09T22:14:30.153383Z",
     "shell.execute_reply": "2024-12-09T22:14:30.152480Z",
     "shell.execute_reply.started": "2024-12-09T22:14:30.115520Z"
    },
    "trusted": true
   },
   "outputs": [
    {
     "data": {
      "text/plain": [
       "['Related Questions: ',\n",
       " \"Question: Who are Elon Musk's ex-girlfriends?\",\n",
       " 'Answer: Justine Musk has previously referred to herself as Elon\\'s \"Starter Wife.\" Elon Musk began dating Talulah Riley shortly after his first divorce. Elon began dating actress Amber Heard in late 2016. Elon Musk (L) and Canadian musician Grimes (Claire Boucher) dated for three years before calling it quits.',\n",
       " 'Question: How many times has Elon Musk been married and how many children does he have?',\n",
       " 'Answer: In 2020 they welcomed their son Xac Musk although the name had to be changed due to legal reasons in California. And he is now known as XAZ Musk.',\n",
       " 'Question: Does Elon Musk have 13 children?',\n",
       " \"Answer: The tech entrepreneur has 12 children with three different women, including one child who died in 2002. Elon Musk, the world's richest man, is the father of 12 children with three different partners.\",\n",
       " 'Additional Information: ',\n",
       " 'The X (formerly known as Twitter) owner has had a slew of high-profile relationships and love interests, and 12 children.',\n",
       " \"In this piece, we deconstruct Musk's romantic life, from his ex-wives and the mothers of his children to his current girlfriend.\",\n",
       " \"Elon Musk's dating and relationship history: His girlfriends and wives · Justine Musk · Talulah Riley · Amber Heard · Grimes · Shivon Zilis.\",\n",
       " 'Over the years, Musk has dated multiple famous faces, been married three times (to two women) and had one workplace situationship.',\n",
       " 'Natasha Bassett · Shivon Zilis · Grimes · Amber Heard · Talulah Riley · Justine Musk.',\n",
       " \"From his university sweetheart to private jet dates with Australian superstars, here's an inside look at the three-time divorced Elon Musk.\"]"
      ]
     },
     "execution_count": 15,
     "metadata": {},
     "output_type": "execute_result"
    }
   ],
   "source": [
    "extract_info(search_response(\"how many girlfriends has elon musk had?\")) # 3rd Answer gives the required response"
   ]
  },
  {
   "cell_type": "code",
   "execution_count": 16,
   "metadata": {
    "execution": {
     "iopub.execute_input": "2024-12-09T22:14:34.894669Z",
     "iopub.status.busy": "2024-12-09T22:14:34.894208Z",
     "iopub.status.idle": "2024-12-09T22:14:34.920045Z",
     "shell.execute_reply": "2024-12-09T22:14:34.919191Z",
     "shell.execute_reply.started": "2024-12-09T22:14:34.894638Z"
    },
    "trusted": true
   },
   "outputs": [
    {
     "data": {
      "text/plain": [
       "['Answer to Query: Shah Rukh Khan, earns an estimated annual income of around 38 million USD or around 280 crore INR. He makes this money through various sources including acting in films, owning a sports team and production company, endorsements, investments, and other business ventures.',\n",
       " 'Related Questions: ',\n",
       " 'Question: How much does Shah Rukh Khan earn?',\n",
       " \"Answer: Acting and Film Production Shah Rukh Khan's primary source of income remains his successful career in Bollywood. In 2024, he topped the Forbes list of highest-paid actors in India, earning between Rs 150 to 250 crore per film.\",\n",
       " 'Question: Who is richer, Srk or Virat Kohli?',\n",
       " 'Answer: Kohli leads with $227.9 million, followed by Ranveer Singh at $203.1 million, Shah Rukh Khan at $120.7 million, Akshay Kumar at $111.7 million, and Alia Bhatt at $101.1 million.',\n",
       " 'Question: Who is richer, Amitabh or Shah Rukh?',\n",
       " \"Answer: From Shah Rukh Khan's net worth of Rs 7,300 Crore to Amitabh Bachchan's Rs 1,600 Crore net worth, here's a closer look at the staggering wealth of 5 Bollywood celebrities who made it to the Hurun Rich List. The 2024 Hurun Rich India — an annual list of the richest people in India — has had some surprises this year.\",\n",
       " 'Question: Is Aditya Chopra richer than Srk?',\n",
       " \"Answer: For instance, Aditya Chopra is worth 'just' $890 million while Bhushan Kumar is just a little ahead at $950 million. Even Shah Rukh Khan, one of the richest actors in the world, has a net worth of 'only' $870 million, one-fourth of Kalanithi Maran's wealth.\",\n",
       " 'Additional Information: ',\n",
       " \"The production house earned a net profit of approximately $10 million (INR 85 crore) in FY23, making it a major source of the actor's wealth.\",\n",
       " \"Shah Rukh Khan's financial empire expands with an estimated net worth of $760 million in 2024, making him the third richest actor globally.\"]"
      ]
     },
     "execution_count": 16,
     "metadata": {},
     "output_type": "execute_result"
    }
   ],
   "source": [
    "extract_info(search_response(\"what is the earning of srk\"))"
   ]
  },
  {
   "cell_type": "markdown",
   "metadata": {},
   "source": [
    "# ReAct Agent (w/ LLaMA 3 8b instruct (4-bitq))"
   ]
  },
  {
   "cell_type": "code",
   "execution_count": 6,
   "metadata": {
    "execution": {
     "iopub.execute_input": "2024-12-09T22:21:01.987623Z",
     "iopub.status.busy": "2024-12-09T22:21:01.987296Z",
     "iopub.status.idle": "2024-12-09T22:21:09.193118Z",
     "shell.execute_reply": "2024-12-09T22:21:09.192209Z",
     "shell.execute_reply.started": "2024-12-09T22:21:01.987594Z"
    },
    "trusted": true
   },
   "outputs": [],
   "source": [
    "from transformers import AutoTokenizer\n",
    "import torch\n",
    "from llama_index.llms.huggingface import HuggingFaceLLM\n",
    "from transformers import BitsAndBytesConfig\n",
    "\n",
    "import json\n",
    "from typing import Sequence, List\n",
    "\n",
    "from llama_index.core.llms import ChatMessage\n",
    "from llama_index.core.tools import BaseTool, FunctionTool\n",
    "from llama_index.core.agent import ReActAgent\n",
    "\n",
    "import nest_asyncio\n",
    "\n",
    "from IPython.display import Javascript"
   ]
  },
  {
   "cell_type": "code",
   "execution_count": 7,
   "metadata": {
    "execution": {
     "iopub.execute_input": "2024-12-09T22:21:09.195160Z",
     "iopub.status.busy": "2024-12-09T22:21:09.194661Z",
     "iopub.status.idle": "2024-12-09T22:21:10.401731Z",
     "shell.execute_reply": "2024-12-09T22:21:10.401010Z",
     "shell.execute_reply.started": "2024-12-09T22:21:09.195131Z"
    },
    "trusted": true
   },
   "outputs": [
    {
     "data": {
      "application/vnd.jupyter.widget-view+json": {
       "model_id": "b2cba10831914427ba35ba3ffe3de3fd",
       "version_major": 2,
       "version_minor": 0
      },
      "text/plain": [
       "tokenizer_config.json:   0%|          | 0.00/51.0k [00:00<?, ?B/s]"
      ]
     },
     "metadata": {},
     "output_type": "display_data"
    },
    {
     "data": {
      "application/vnd.jupyter.widget-view+json": {
       "model_id": "b97f8d31974849c0b39bb69a5fb6b357",
       "version_major": 2,
       "version_minor": 0
      },
      "text/plain": [
       "tokenizer.json:   0%|          | 0.00/9.09M [00:00<?, ?B/s]"
      ]
     },
     "metadata": {},
     "output_type": "display_data"
    },
    {
     "data": {
      "application/vnd.jupyter.widget-view+json": {
       "model_id": "b29a1f325f794e27a0b410d5e93e2b64",
       "version_major": 2,
       "version_minor": 0
      },
      "text/plain": [
       "special_tokens_map.json:   0%|          | 0.00/73.0 [00:00<?, ?B/s]"
      ]
     },
     "metadata": {},
     "output_type": "display_data"
    }
   ],
   "source": [
    "tokenizer = AutoTokenizer.from_pretrained(\n",
    "    \"meta-llama/Meta-Llama-3-8B-Instruct\",\n",
    "    token=hf_token,\n",
    ")\n",
    "\n",
    "stopping_ids = [\n",
    "    tokenizer.eos_token_id,\n",
    "    tokenizer.convert_tokens_to_ids(\"<|eot_id|>\"),\n",
    "]"
   ]
  },
  {
   "cell_type": "code",
   "execution_count": 8,
   "metadata": {
    "execution": {
     "iopub.execute_input": "2024-12-09T22:21:10.403013Z",
     "iopub.status.busy": "2024-12-09T22:21:10.402742Z",
     "iopub.status.idle": "2024-12-09T22:28:35.557872Z",
     "shell.execute_reply": "2024-12-09T22:28:35.556922Z",
     "shell.execute_reply.started": "2024-12-09T22:21:10.402987Z"
    },
    "trusted": true
   },
   "outputs": [
    {
     "data": {
      "application/vnd.jupyter.widget-view+json": {
       "model_id": "ee6dfd3d18524c2f8d7d11bd8e35a334",
       "version_major": 2,
       "version_minor": 0
      },
      "text/plain": [
       "config.json:   0%|          | 0.00/654 [00:00<?, ?B/s]"
      ]
     },
     "metadata": {},
     "output_type": "display_data"
    },
    {
     "data": {
      "application/vnd.jupyter.widget-view+json": {
       "model_id": "48a6dfbe9d78468c9a35bde3da89056a",
       "version_major": 2,
       "version_minor": 0
      },
      "text/plain": [
       "model.safetensors.index.json:   0%|          | 0.00/23.9k [00:00<?, ?B/s]"
      ]
     },
     "metadata": {},
     "output_type": "display_data"
    },
    {
     "data": {
      "application/vnd.jupyter.widget-view+json": {
       "model_id": "5d2b5ed6b1804d88b58c103034351bce",
       "version_major": 2,
       "version_minor": 0
      },
      "text/plain": [
       "Downloading shards:   0%|          | 0/4 [00:00<?, ?it/s]"
      ]
     },
     "metadata": {},
     "output_type": "display_data"
    },
    {
     "data": {
      "application/vnd.jupyter.widget-view+json": {
       "model_id": "decdc4204a374477aca5b640b325cfa0",
       "version_major": 2,
       "version_minor": 0
      },
      "text/plain": [
       "model-00001-of-00004.safetensors:   0%|          | 0.00/4.98G [00:00<?, ?B/s]"
      ]
     },
     "metadata": {},
     "output_type": "display_data"
    },
    {
     "data": {
      "application/vnd.jupyter.widget-view+json": {
       "model_id": "33d50dca426c4ec5b7490b02ab2a2b1e",
       "version_major": 2,
       "version_minor": 0
      },
      "text/plain": [
       "model-00002-of-00004.safetensors:   0%|          | 0.00/5.00G [00:00<?, ?B/s]"
      ]
     },
     "metadata": {},
     "output_type": "display_data"
    },
    {
     "data": {
      "application/vnd.jupyter.widget-view+json": {
       "model_id": "ee0ee46d3f8a4244b18fb6203115da47",
       "version_major": 2,
       "version_minor": 0
      },
      "text/plain": [
       "model-00003-of-00004.safetensors:   0%|          | 0.00/4.92G [00:00<?, ?B/s]"
      ]
     },
     "metadata": {},
     "output_type": "display_data"
    },
    {
     "data": {
      "application/vnd.jupyter.widget-view+json": {
       "model_id": "0c3b087cef014a95a58d598626a60e7e",
       "version_major": 2,
       "version_minor": 0
      },
      "text/plain": [
       "model-00004-of-00004.safetensors:   0%|          | 0.00/1.17G [00:00<?, ?B/s]"
      ]
     },
     "metadata": {},
     "output_type": "display_data"
    },
    {
     "data": {
      "application/vnd.jupyter.widget-view+json": {
       "model_id": "aef84e4d79d14bb69bd0bbce49d67500",
       "version_major": 2,
       "version_minor": 0
      },
      "text/plain": [
       "Loading checkpoint shards:   0%|          | 0/4 [00:00<?, ?it/s]"
      ]
     },
     "metadata": {},
     "output_type": "display_data"
    },
    {
     "data": {
      "application/vnd.jupyter.widget-view+json": {
       "model_id": "d014da06a16448fcaefbcdc920fdf2c3",
       "version_major": 2,
       "version_minor": 0
      },
      "text/plain": [
       "generation_config.json:   0%|          | 0.00/187 [00:00<?, ?B/s]"
      ]
     },
     "metadata": {},
     "output_type": "display_data"
    }
   ],
   "source": [
    "quantization_config = BitsAndBytesConfig(\n",
    "    load_in_4bit=True,\n",
    "    bnb_4bit_compute_dtype=torch.float16,\n",
    "    bnb_4bit_quant_type=\"nf4\",\n",
    "    bnb_4bit_use_double_quant=True,\n",
    ")\n",
    "\n",
    "llm = HuggingFaceLLM(\n",
    "    model_name=\"meta-llama/Meta-Llama-3-8B-Instruct\",\n",
    "    model_kwargs={\n",
    "        \"token\": hf_token,\n",
    "        \"quantization_config\": quantization_config\n",
    "    },\n",
    "    generate_kwargs={\n",
    "        \"do_sample\": True,\n",
    "        \"temperature\": 0.9999,\n",
    "        \"top_p\": 0.9999,\n",
    "    },\n",
    "    tokenizer_name=\"meta-llama/Meta-Llama-3-8B-Instruct\",\n",
    "    tokenizer_kwargs={\"token\": hf_token},\n",
    "    stopping_ids=stopping_ids,\n",
    ")"
   ]
  },
  {
   "cell_type": "code",
   "execution_count": 9,
   "metadata": {
    "execution": {
     "iopub.execute_input": "2024-12-09T22:28:35.777795Z",
     "iopub.status.busy": "2024-12-09T22:28:35.777528Z",
     "iopub.status.idle": "2024-12-09T22:28:35.781856Z",
     "shell.execute_reply": "2024-12-09T22:28:35.780948Z",
     "shell.execute_reply.started": "2024-12-09T22:28:35.777769Z"
    },
    "trusted": true
   },
   "outputs": [],
   "source": [
    "nest_asyncio.apply()"
   ]
  },
  {
   "cell_type": "code",
   "execution_count": 14,
   "metadata": {
    "execution": {
     "iopub.execute_input": "2024-12-09T22:31:00.296799Z",
     "iopub.status.busy": "2024-12-09T22:31:00.295979Z",
     "iopub.status.idle": "2024-12-09T22:31:00.303677Z",
     "shell.execute_reply": "2024-12-09T22:31:00.302908Z",
     "shell.execute_reply.started": "2024-12-09T22:31:00.296768Z"
    },
    "trusted": true
   },
   "outputs": [],
   "source": [
    "def math_solver(math_query: str) -> float:\n",
    "    \"\"\"Compute the given mathematical query with all the variables known and return the result\"\"\"\n",
    "    return (extract_info(search_response(math_query)))\n",
    "\n",
    "def google_search(search_query: str) -> float:\n",
    "    \"\"\"Search the web for any unknown fact in user query and return relavant information about the query\"\"\"\n",
    "    return (extract_info(search_response(search_query)))\n",
    "\n",
    "mathsolver_tool = FunctionTool.from_defaults(fn=math_solver)\n",
    "googlesearch_tool = FunctionTool.from_defaults(fn=google_search)\n",
    "\n",
    "tools = [mathsolver_tool, googlesearch_tool]"
   ]
  },
  {
   "cell_type": "code",
   "execution_count": 47,
   "metadata": {
    "execution": {
     "iopub.execute_input": "2024-12-10T00:06:11.414439Z",
     "iopub.status.busy": "2024-12-10T00:06:11.413567Z",
     "iopub.status.idle": "2024-12-10T00:06:11.419476Z",
     "shell.execute_reply": "2024-12-10T00:06:11.418594Z",
     "shell.execute_reply.started": "2024-12-10T00:06:11.414389Z"
    },
    "trusted": true
   },
   "outputs": [],
   "source": [
    "agent = ReActAgent.from_tools(\n",
    "    tools,\n",
    "    llm=llm,\n",
    "    verbose=True,\n",
    ")"
   ]
  },
  {
   "cell_type": "markdown",
   "metadata": {},
   "source": [
    "# Testing"
   ]
  },
  {
   "cell_type": "code",
   "execution_count": 22,
   "metadata": {
    "execution": {
     "iopub.execute_input": "2024-12-09T22:39:20.382958Z",
     "iopub.status.busy": "2024-12-09T22:39:20.382606Z",
     "iopub.status.idle": "2024-12-09T22:39:38.822613Z",
     "shell.execute_reply": "2024-12-09T22:39:38.821652Z",
     "shell.execute_reply.started": "2024-12-09T22:39:20.382911Z"
    },
    "trusted": true
   },
   "outputs": [
    {
     "name": "stderr",
     "output_type": "stream",
     "text": [
      "Setting `pad_token_id` to `eos_token_id`:None for open-end generation.\n"
     ]
    },
    {
     "name": "stdout",
     "output_type": "stream",
     "text": [
      "> Running step 27740ae3-4cf2-4d43-b5e7-daaf12a0e544. Step input: What is five plus nine times the net worth of shah rukh khan?\n"
     ]
    },
    {
     "name": "stderr",
     "output_type": "stream",
     "text": [
      "Setting `pad_token_id` to `eos_token_id`:None for open-end generation.\n"
     ]
    },
    {
     "name": "stdout",
     "output_type": "stream",
     "text": [
      "\u001b[1;3;38;5;200mThought: The current language of the user is not specified, I need to use the tool to help me answer the question.\n",
      "Action: google_search\n",
      "Action Input: {'search_query': \"Shah Rukh Khan's net worth\"}\n",
      "\u001b[0m\u001b[1;3;34mObservation: [\"Answer to Query: According to Forbes richest list, Shahrukh's net worth in dollars is $770 Million and according to the world of Statistics Shahrukh Khan's net worth is more than Hollywood actor Robert De Niro ($500m), George Clooney ($500M), Jackie Chan ($520M), and Tom Cruise ($620M).\", 'Related Questions: ', \"Question: Who is India's no. 1 richest actor?\", \"Answer: Shah Rukh Khan is currently recognized as India's richest actor, boasting a net worth of approximately ₹7,300 crore (around $880 million) according to the 2024 Hurun India Rich List.\", 'Question: Who is richer, Srk or Tom Cruise?', \"Answer: The world's richest comedian In comparison, Dwayne Johnson has a net worth of $890 million, Shah Rukh Khan $870 million, Tom Cruise $800 million, and Brad Pitt 'only' $400 million.\", 'Question: Who is the no. 1 richest actor in the world?', 'Answer: Tyler Perry stands on the top position in the list of richest actor in the world 2024 with the net worth of $1 Billion, followed by Jerry Seinfeld, Dwayne Johnson and Shah Rukh Khan. Here is the list of Top 10 Richest Actors in the World: S. No.', 'Question: Is Shah Rukh Khan a billionaire?', \"Answer: Here's a video about Shah Rukh Khan's net worth Talking about his net worth, as per the Forbes list, it is $1.55 billion.\", 'Additional Information: ', \"As reported in the 2024 Hurun India Rich List, Shah Rukh Khan's net worth has reached an impressive Rs 7,300 crore.\", 'As per multiple sources (Bloomberg, Forbes), he is worth around $1.4 billion ( ₹11,500 crore), more than any other male actor in the world.', \"What is Shahrukh Khan's net worth? Shahrukh Khan is an Indian actor, film producer, and TV personality who has a net worth of $600 million.\"]\n",
      "\u001b[0m> Running step 6873e399-79d6-431c-994f-c37718d4e0b0. Step input: None\n",
      "\u001b[1;3;38;5;200mThought: I need to convert the net worth from crores to dollars and then calculate 5 plus 9 times the converted value.\n",
      "Action: math_solver\n",
      "Action Input: {'math_query': '5 + 9 * 770000000'}\n",
      "\u001b[0m"
     ]
    },
    {
     "name": "stderr",
     "output_type": "stream",
     "text": [
      "Setting `pad_token_id` to `eos_token_id`:None for open-end generation.\n"
     ]
    },
    {
     "name": "stdout",
     "output_type": "stream",
     "text": [
      "\u001b[1;3;34mObservation: calculated value=6930000005\n",
      "\u001b[0m> Running step 6951bc46-345c-4b99-bd71-99159637fa06. Step input: None\n",
      "\u001b[1;3;38;5;200mThought: I can answer without using any more tools. I'll use the user's language to answer\n",
      "Answer: The result of 5 plus 9 times the net worth of Shah Rukh Khan is approximately 6930000005.\n",
      "\u001b[0mThe result of 5 plus 9 times the net worth of Shah Rukh Khan is approximately 6930000005.\n"
     ]
    }
   ],
   "source": [
    "response = agent.chat(\"What is five plus nine times the net worth of shah rukh khan?\")\n",
    "print(str(response))"
   ]
  },
  {
   "cell_type": "code",
   "execution_count": 23,
   "metadata": {
    "execution": {
     "iopub.execute_input": "2024-12-09T22:51:11.587713Z",
     "iopub.status.busy": "2024-12-09T22:51:11.587337Z",
     "iopub.status.idle": "2024-12-09T22:51:32.206431Z",
     "shell.execute_reply": "2024-12-09T22:51:32.205531Z",
     "shell.execute_reply.started": "2024-12-09T22:51:11.587683Z"
    },
    "trusted": true
   },
   "outputs": [
    {
     "name": "stderr",
     "output_type": "stream",
     "text": [
      "Setting `pad_token_id` to `eos_token_id`:None for open-end generation.\n"
     ]
    },
    {
     "name": "stdout",
     "output_type": "stream",
     "text": [
      "> Running step cba820ae-fc65-4de9-ac05-ae840f5b743b. Step input: What is five plus nine times the number of wives elon musk had?\n",
      "\u001b[1;3;38;5;200mThought: The current language of the user is English. I need to use a tool to help me answer the question.\n",
      "Action: google_search\n",
      "Action Input: {'search_query': 'How many wives does Elon Musk have?'}\n",
      "\u001b[0m"
     ]
    },
    {
     "name": "stderr",
     "output_type": "stream",
     "text": [
      "Setting `pad_token_id` to `eos_token_id`:None for open-end generation.\n"
     ]
    },
    {
     "name": "stdout",
     "output_type": "stream",
     "text": [
      "\u001b[1;3;34mObservation: ['Answer to Query: Elon Musk, the renowned CEO of Tesla and SpaceX, has had a complex personal life that has garnered significant public interest. Musk has been married three times to two different women. His marital history includes two marriages to actress Talulah Riley and one marriage to author Justine Wilson.', 'Related Questions: ', 'Question: How many wives does Elon Musk have currently?', 'Answer: Family and Marriages In 2010, Musk married actress Talulah Riley. Their relationship saw two marriages and two divorces, finally ending in 2016. As of 2024, Musk is not currently married. He has fathered additional children with other partners, bringing his total number of known children to ten.', \"Question: Who are Elon Musk's 10 children?\", 'Answer: None', \"Question: Who was Elon's first wife?\", \"Answer: Elon Musk's first wife, Justine Wilson, played a significant role in the early stages of the tech mogul's personal life. The couple met while studying at Queen's University in Ontario and tied the knot in 2000.\", 'Additional Information: ', \"Elon has a younger brother, Kimbal, and a younger sister, Tosca. Elon has four paternal half-siblings. The family was wealthy during Elon's youth.\", 'Elon Musk has been married twice. His first wife was Justine Musk (2000-2008), with whom he shares five children.', 'Elon Musk, the renowned entrepreneur behind Tesla and SpaceX, has been married three times to two different women.', 'The tech entrepreneur has 12 children with three different women, including one child who died in 2002.']\n",
      "\u001b[0m> Running step 9aba9cb4-4e3d-4278-8fb5-49e6555e6d72. Step input: None\n",
      "\u001b[1;3;38;5;200mThought: I found relevant information about Elon Musk's marriages and children using the google_search tool.\n",
      "Action: math_solver\n",
      "Action Input: {'math_query': '5 + 9 * 3'}\n",
      "\u001b[0m"
     ]
    },
    {
     "name": "stderr",
     "output_type": "stream",
     "text": [
      "Setting `pad_token_id` to `eos_token_id`:None for open-end generation.\n"
     ]
    },
    {
     "name": "stdout",
     "output_type": "stream",
     "text": [
      "\u001b[1;3;34mObservation: calculated value=32\n",
      "\u001b[0m> Running step a3e316ac-04ed-4450-8bc2-074a319aae57. Step input: None\n",
      "\u001b[1;3;38;5;200mThought: I can answer the question without using any more tools. I'll use the user's language to answer\n",
      "Answer: Five plus nine times the number of wives Elon Musk had is 32.\n",
      "\u001b[0mFive plus nine times the number of wives Elon Musk had is 32.\n"
     ]
    }
   ],
   "source": [
    "response = agent.chat(\"What is five plus nine times the number of wives elon musk had?\")\n",
    "print(str(response))"
   ]
  },
  {
   "cell_type": "markdown",
   "metadata": {},
   "source": [
    "# More Complex Testing"
   ]
  },
  {
   "cell_type": "code",
   "execution_count": 26,
   "metadata": {
    "execution": {
     "iopub.execute_input": "2024-12-09T22:59:07.164378Z",
     "iopub.status.busy": "2024-12-09T22:59:07.164026Z",
     "iopub.status.idle": "2024-12-09T22:59:26.556790Z",
     "shell.execute_reply": "2024-12-09T22:59:26.555965Z",
     "shell.execute_reply.started": "2024-12-09T22:59:07.164347Z"
    },
    "trusted": true
   },
   "outputs": [
    {
     "name": "stderr",
     "output_type": "stream",
     "text": [
      "Setting `pad_token_id` to `eos_token_id`:None for open-end generation.\n"
     ]
    },
    {
     "name": "stdout",
     "output_type": "stream",
     "text": [
      "> Running step 4ffdffc8-3c9d-40bc-ab1b-3bf080b2a447. Step input: What is three raised to the power of two, times the current value of gold divided by the year hiroshima was bombed?\n",
      "\u001b[1;3;38;5;200mThought: The current value of gold is unknown, so I'll need to use the google_search tool to find out.\n",
      "Action: google_search\n",
      "Action Input: {'search_query': 'current value of gold'}\n",
      "\u001b[0m"
     ]
    },
    {
     "name": "stderr",
     "output_type": "stream",
     "text": [
      "Setting `pad_token_id` to `eos_token_id`:None for open-end generation.\n"
     ]
    },
    {
     "name": "stdout",
     "output_type": "stream",
     "text": [
      "\u001b[1;3;34mObservation: ['Related Questions: ', 'Question: What is 1 oz of gold worth right now?', 'Answer: Gold Spot Price', 'Question: How much is 14K gold worth?', \"Answer: Today's Gold Prices\", 'Question: Is now a good time to sell gold?', 'Answer: The bottom line \"Now is a terrific time to take some profits [as] gold [is] at all-time highs,\" suggests Miller. This would allow you to recover your initial investment while keeping some position in gold.', 'Question: What will gold be worth in 5 years?', 'Answer: Gold price prediction overview:', 'Additional Information: ', 'Gold Spot Price ; Gold Price Per Ounce. $2,677.70 USD, $22.50 USD ; Gold Price Per Gram. $86.09 USD, $0.72 USD ; Gold Price Per Kilo. $86,089.99 USD, $723.39 USD.', 'Live Gold Charts and Gold Spot Price from International Gold Markets, Prices from New York, London, Hong Kong and Sydney provided by Kitco.', '1 Troy Ounce ≈ 1,097 Ounce, Gold Price Per 1 Ounce, 2404.93 USD ; 1 Troy Ounce ≈ 0,031 Kilogram, Gold Price Per 1 Kilogram, 84831.03 USD.']\n",
      "\u001b[0m> Running step a5f35714-4497-450d-8684-5c2687600a7f. Step input: None\n",
      "\u001b[1;3;38;5;200mThought: Based on the observation, I can extract the current value of gold in US dollars per ounce, which is $2,677.70.\n",
      "Action: math_solver\n",
      "Action Input: {'math_query': '3 to the power of 2 * 2677.7 / 1945'}\n",
      "\u001b[0m"
     ]
    },
    {
     "name": "stderr",
     "output_type": "stream",
     "text": [
      "Setting `pad_token_id` to `eos_token_id`:None for open-end generation.\n"
     ]
    },
    {
     "name": "stdout",
     "output_type": "stream",
     "text": [
      "\u001b[1;3;34mObservation: calculated value=12.39038560411311\n",
      "\u001b[0m> Running step 1c4cd0b6-f380-4833-99f8-58a2408713d5. Step input: None\n",
      "\u001b[1;3;38;5;200mThought: The result of the mathematical query is approximately 12.39038560411311.\n",
      "Thought: I can answer without using any more tools. I'll use the user's language to answer.\n",
      "Answer: The result of three raised to the power of two, times the current value of gold divided by the year Hiroshima was bombed is approximately 12.39.\n",
      "\u001b[0mThe result of three raised to the power of two, times the current value of gold divided by the year Hiroshima was bombed is approximately 12.39.\n"
     ]
    }
   ],
   "source": [
    "response = agent.chat(\"What is three raised to the power of two, times the current value of gold divided by the year hiroshima was bombed?\")\n",
    "print(str(response))"
   ]
  },
  {
   "cell_type": "code",
   "execution_count": 35,
   "metadata": {
    "execution": {
     "iopub.execute_input": "2024-12-09T23:58:09.039414Z",
     "iopub.status.busy": "2024-12-09T23:58:09.039092Z",
     "iopub.status.idle": "2024-12-09T23:58:14.174712Z",
     "shell.execute_reply": "2024-12-09T23:58:14.173848Z",
     "shell.execute_reply.started": "2024-12-09T23:58:09.039381Z"
    },
    "trusted": true
   },
   "outputs": [
    {
     "data": {
      "text/plain": [
       "[\"Answer to Query: #NewsByNumbers • With a net worth of $770 million, #ShahRukhKhan is the fourth richest actor and the richest Asian actor in the world. Here's a look at the Top 10 richest actors on the planet.\",\n",
       " 'Related Questions: ',\n",
       " \"Question: Who is world's no. 1 richest actor?\",\n",
       " 'Answer: Tyler Perry stands on the top position in the list of richest actor in the world 2024 with the net worth of $1 Billion, followed by Jerry Seinfeld, Dwayne Johnson and Shah Rukh Khan. Here is the list of Top 10 Richest Actors in the World: S. No.',\n",
       " 'Question: Who is the richest actor in India?',\n",
       " 'Answer: None',\n",
       " 'Question: Who is richer, Srk or Tom Cruise?',\n",
       " \"Answer: The world's richest comedian In comparison, Dwayne Johnson has a net worth of $890 million, Shah Rukh Khan $870 million, Tom Cruise $800 million, and Brad Pitt 'only' $400 million.\",\n",
       " 'Question: What is the net worth of Tom Cruise?',\n",
       " 'Answer: Despite his $600 million fortune, Cruise reportedly lives a nomadic lifestyle, moving between film projects without a permanent home base. His commitment to Scientology, as well as his substantial financial contributions, may contribute to this work-focused lifestyle.',\n",
       " 'Additional Information: ',\n",
       " 'As per multiple sources (Bloomberg, Forbes), he is worth around $1.4 billion ( ₹11,500 crore), more than any other male actor in the world.',\n",
       " 'With a net worth of Rs 7,300 crore, Shar Rukh Khan is the richest Bollywood actor on the Hurun India Rich List 204, followed by Juhi Chawla.',\n",
       " \"The world's richest actor has a net worth of ₹11764 crore. It is neither Shah Rukh Khan nor Tom Cruise.\"]"
      ]
     },
     "execution_count": 35,
     "metadata": {},
     "output_type": "execute_result"
    }
   ],
   "source": [
    "extract_info(search_response(\"srk net worth\"))"
   ]
  },
  {
   "cell_type": "code",
   "execution_count": 27,
   "metadata": {
    "execution": {
     "iopub.execute_input": "2024-12-09T23:00:49.663552Z",
     "iopub.status.busy": "2024-12-09T23:00:49.663216Z",
     "iopub.status.idle": "2024-12-09T23:01:16.747143Z",
     "shell.execute_reply": "2024-12-09T23:01:16.746265Z",
     "shell.execute_reply.started": "2024-12-09T23:00:49.663524Z"
    },
    "trusted": true
   },
   "outputs": [
    {
     "name": "stderr",
     "output_type": "stream",
     "text": [
      "Setting `pad_token_id` to `eos_token_id`:None for open-end generation.\n"
     ]
    },
    {
     "name": "stdout",
     "output_type": "stream",
     "text": [
      "> Running step 6c09e35b-f784-4f1f-ba34-2999c03c67cd. Step input: What is three raised to the power of two, times the current value of gold divided by the year when fluidai company was founded?\n",
      "\u001b[1;3;38;5;200mThought: The current language of the user is: English. I need to use a tool to help me answer the question.\n",
      "Action: google_search\n",
      "Action Input: {'search_query': 'year when Fluid AI company was founded'}\n",
      "\u001b[0m"
     ]
    },
    {
     "name": "stderr",
     "output_type": "stream",
     "text": [
      "Setting `pad_token_id` to `eos_token_id`:None for open-end generation.\n"
     ]
    },
    {
     "name": "stdout",
     "output_type": "stream",
     "text": [
      "\u001b[1;3;34mObservation: ['Answer to Query: Mumbai-based Fluid AI was founded by the two brothers in 2008. The startup offers intuitive user experiences and data analytics for businesses including Rolls Royce and Vodafone.', 'Related Questions: ', 'Question: When was FluidAI founded?', 'Answer: Helwa co-founded FluidAI in 2014 while studying nanotechnology and electrical engineering at the University of Waterloo.', 'Question: Who is the founder of fluid AI?', 'Answer: Back in 2012, Our Founders Abhinav Aggarwal and Raghav Aggarwal embarked on this adventure with nothing but just an idea. They assembled a talented team of engineers to bring their vision to life.', 'Question: How many employees does fluid AI have?', 'Answer: Fluid AI employs 11 to 50 employees in India.', 'Question: Which company made AI first?', 'Answer: Some of the first companies that made significant contributions to the field of AI in the world: IBM: IBM was one of the first companies to work on AI research, starting in the 1950s. They developed several early AI systems, including the first chess-playing computer program.', 'Additional Information: ', 'When was Fluid AI founded? Fluid AI was founded in 2009. Where is Fluid AI headquartered? Fluid AI is headquartered in Mumbai, India.', 'Founded Date 2008; Founders Abhinav Aggarwal; Operating Status Active; Last Funding Type Non-equity Assistance; Legal Name Fluid AI International Corporation.', 'The company was founded by Raghav and Abhinav Aggarwal and is headquartered in Mumbai, India.', 'When was Fluid AI founded? Fluid AI was founded in 2012. Where is Fluid AI located? Fluid AI is located in Mumbai, India.', 'Fluid AI offers Conversational AI solutions & AI Analytics for business decisioning ... Founding Date. : 2009. No. of Employees. : 151 to 250. Core Team. : 1.', 'Fluid AI offers Conversational AI solutions & AI Analytics for business decisioning. We have received 2 patents for our technology and innovations.', \"YourNest Venture Capital is a sharply focused 'Pre-Series A'\\u200b fund house that was established in 2011 to nurture global market leaders from India.\"]\n",
      "\u001b[0m> Running step 96c670eb-f3a2-4cda-bf6f-658c6dbc242b. Step input: None\n",
      "\u001b[1;3;38;5;200mThought: I found the information about Fluid AI's founding date. Since the date is not consistently mentioned, I'll use the most recent mention, which is 2009.\n",
      "Action: math_solver\n",
      "Action Input: {'math_query': '3*2*(current value of gold) / 2009'}\n",
      "\u001b[0m"
     ]
    },
    {
     "name": "stderr",
     "output_type": "stream",
     "text": [
      "Setting `pad_token_id` to `eos_token_id`:None for open-end generation.\n"
     ]
    },
    {
     "name": "stdout",
     "output_type": "stream",
     "text": [
      "\u001b[1;3;34mObservation: ['Related Questions: ', 'Question: What was the value of gold in 2009?', 'Answer: Gold Prices - 100 Year Historical Chart', 'Question: Is gold worth more now than 10 years ago?', 'Answer: The price of gold fluctuates but historically over the long term, it trends higher. At the time of writing, the 10-year increase is 55.67%. This means that if you invested $1,000 in gold 10 years ago, it would be worth $1,550 today.', 'Question: How do I calculate my gold price?', 'Answer: Jewellers employ the following formula to calculate gold rates: Final Jewellery Price = Gold Price per Gram (22 or 18 Carat) × Weight in Grams + Making Charges per Gram + Goods and Services Tax (GST) on (Jewellery Price + Making Charges).', 'Question: What if I bought gold 20 years ago?', 'Answer: With gold trading at record highs above $2,600 per ounce, 20 years later that half ounce would be worth about $1,300. Over those 20 years, your $200 investment would have grown to $1,300, a 550% return or 10.6% annual growth rate.', 'Additional Information: ', '2009 Gold Prices - Daily Gold Price Fix Data Below ; April 1, 2009. $919.50 oz. $924.50 oz ; April 2, 2009. $914.75 oz. $897.75 oz ; April 3, 2009. $901.50 oz.', 'Gold Price History in US Dollars (USD) for March 2009 ; 03/13/09, 928.20, 29.842 ; 03/16/09, 924.07, 29.709 ; 03/17/09, 915.88, 29.446 ; 03/18/09, 938.60, 30.177.', 'Gold Price in USD per Troy Ounce for Last 10 Years. Au. Current Price. $2,671.91. 10 Year Change. 119.69% $1,455.66. 10 Year high $2,783.95.', 'The closing price for gold (XAU) between 2007 and 2009 was $1,096.20, on December 31, 2009. It was up 72% in that time. ; Week of December 21 2009. $1,111.45.', 'β-Carotene derived from Golden Rice is effectively converted to vitamin A in humans. This trial was registered at clinicaltrials.gov as NCT00680355.', 'The max value is really only 2^31, which is about twice the amount you get for 2^(3*10): 2 billion.']\n",
      "\u001b[0m> Running step bf92408e-37b5-4b6d-a915-01a7c2b3dc9e. Step input: None\n",
      "\u001b[1;3;38;5;200mThought: I found the information about gold prices in 2009. Now I need to use this information to calculate the result of 3*2*(current value of gold) / 2009.\n",
      "Action: math_solver\n",
      "Action Input: {'math_query': '3*2*(919.50) / 2009'}\n",
      "\u001b[0m"
     ]
    },
    {
     "name": "stderr",
     "output_type": "stream",
     "text": [
      "Setting `pad_token_id` to `eos_token_id`:None for open-end generation.\n"
     ]
    },
    {
     "name": "stdout",
     "output_type": "stream",
     "text": [
      "\u001b[1;3;34mObservation: calculated value=2.7461423593827776\n",
      "\u001b[0m> Running step 9c1216ba-f915-44f1-8e1a-f88815b6cf0e. Step input: None\n",
      "\u001b[1;3;38;5;200mThought: I can answer the question without using any more tools.\n",
      "Answer: The result of 3*2*(current value of gold) / 2009 is approximately 2.7461423593827776.\n",
      "\u001b[0mThe result of 3*2*(current value of gold) / 2009 is approximately 2.7461423593827776.\n"
     ]
    }
   ],
   "source": [
    "response = agent.chat(\"What is three raised to the power of two, times the current value of gold divided by the year when fluidai company was founded?\")\n",
    "print(str(response))"
   ]
  },
  {
   "cell_type": "code",
   "execution_count": 48,
   "metadata": {
    "execution": {
     "iopub.execute_input": "2024-12-10T00:06:39.897639Z",
     "iopub.status.busy": "2024-12-10T00:06:39.897310Z",
     "iopub.status.idle": "2024-12-10T00:06:53.306716Z",
     "shell.execute_reply": "2024-12-10T00:06:53.305832Z",
     "shell.execute_reply.started": "2024-12-10T00:06:39.897610Z"
    },
    "trusted": true
   },
   "outputs": [
    {
     "name": "stderr",
     "output_type": "stream",
     "text": [
      "Setting `pad_token_id` to `eos_token_id`:None for open-end generation.\n"
     ]
    },
    {
     "name": "stdout",
     "output_type": "stream",
     "text": [
      "> Running step 5f173747-ca19-4560-ad26-746c9dc128e5. Step input: What is the net worth of kamal raj khan?\n",
      "\u001b[1;3;38;5;200mThought: The current language of the user is: English. I need to use a tool to help me answer the question.\n",
      "Action: google_search\n",
      "Action Input: {'search_query': 'kamal raj khan net worth'}\n",
      "\u001b[0m"
     ]
    },
    {
     "name": "stderr",
     "output_type": "stream",
     "text": [
      "Setting `pad_token_id` to `eos_token_id`:None for open-end generation.\n"
     ]
    },
    {
     "name": "stdout",
     "output_type": "stream",
     "text": [
      "\u001b[1;3;34mObservation: ['Related Questions: ', 'Question: What is Shahid Khan net worth?', 'Answer: None', 'Question: What is the net worth of Bollywood Amir Khan?', 'Answer: 1862 crores. The actor is the owner of some of the most expensive things. Read the article to know about the list of five expensive things he owns. #aamirkhan #aamirkhanfan #networth #bollywoodactor.', 'Question: Who is the son of Krk?', 'Answer: None', 'Question: What is the full form of KRK?', 'Answer: Kamaal R. Khan', 'Additional Information: ', 'Kamaal R. Khan is an Indian actor, producer and writer in Hindi and Bhojpuri cinema. He has produced or written most of the films he has starred in.', '3M Followers, 40 Following, 517 Posts - KRK (@kamaalrkhan) on Instagram: \"#Actor #Critic #TradeAnalyst\"', 'Kamaal R Khan - KRK makes approximately $ 2.96K per month. What is net worth of Kamaal R Khan - KRK? $ 328K is approximately net worth of Kamaal R Khan - KRK.', \"What is KRK's net worth? There is no accurate information available about KRK's net worth, but he claims to be a millionaire. Show more.\"]\n",
      "\u001b[0m> Running step 2a39f3d7-a77e-4bbd-822f-8395dd8a2b24. Step input: None\n",
      "\u001b[1;3;38;5;200mThought: I can answer without using any more tools. I'll use the user's language to answer\n",
      "Answer: Unfortunately, the tool couldn't provide the exact net worth of Kamal Raj Khan, but it seems that he is a millionaire and claims to have a net worth of $328,000, as mentioned in one of the related articles.\n",
      "\u001b[0mUnfortunately, the tool couldn't provide the exact net worth of Kamal Raj Khan, but it seems that he is a millionaire and claims to have a net worth of $328,000, as mentioned in one of the related articles.\n"
     ]
    }
   ],
   "source": [
    "response = agent.chat(\"What is the net worth of kamal raj khan?\")\n",
    "print(str(response))"
   ]
  },
  {
   "cell_type": "code",
   "execution_count": null,
   "metadata": {
    "trusted": true
   },
   "outputs": [],
   "source": []
  }
 ],
 "metadata": {
  "kaggle": {
   "accelerator": "nvidiaTeslaT4",
   "dataSources": [],
   "dockerImageVersionId": 30805,
   "isGpuEnabled": true,
   "isInternetEnabled": true,
   "language": "python",
   "sourceType": "notebook"
  },
  "kernelspec": {
   "display_name": "Python 3",
   "language": "python",
   "name": "python3"
  },
  "language_info": {
   "codemirror_mode": {
    "name": "ipython",
    "version": 3
   },
   "file_extension": ".py",
   "mimetype": "text/x-python",
   "name": "python",
   "nbconvert_exporter": "python",
   "pygments_lexer": "ipython3",
   "version": "3.10.14"
  }
 },
 "nbformat": 4,
 "nbformat_minor": 4
}
